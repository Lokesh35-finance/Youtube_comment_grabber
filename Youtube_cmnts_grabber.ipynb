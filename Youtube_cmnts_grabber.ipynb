{
 "cells": [
  {
   "cell_type": "code",
   "execution_count": 92,
   "metadata": {},
   "outputs": [],
   "source": [
    "from googleapiclient.discovery import build\n",
    "api_key=\"<<YOUR API KEY>>\"\n",
    "yt = build('youtube','v3',developerKey=api_key) #check https://developers.google.com/docs/api/quickstart/python for more details\n",
    "ID = '2P_5RE2DBXw' #id from the youtube video link"
   ]
  },
  {
   "cell_type": "code",
   "execution_count": 98,
   "metadata": {},
   "outputs": [],
   "source": [
    "loop_comment=True\n",
    "pageToken_comment=None\n",
    "import time\n",
    "import random\n",
    "collect_comments={}\n",
    "while loop_comment:\n",
    "    data_comment=yt.commentThreads().list(part='snippet', videoId=ID, maxResults='100', pageToken=pageToken_comment,textFormat=\"plainText\").execute()\n",
    "    for i in data_comment['items']:\n",
    "        comment = i[\"snippet\"]['topLevelComment'][\"snippet\"][\"textDisplay\"]\n",
    "        likes = i[\"snippet\"]['topLevelComment'][\"snippet\"]['likeCount']\n",
    "        totalReplyCount = i[\"snippet\"]['totalReplyCount']\n",
    "        collect_replies=None\n",
    "        if totalReplyCount > 0:\n",
    "            parent = i[\"snippet\"]['topLevelComment'][\"id\"]\n",
    "            loop_replies=True\n",
    "            pageToken_replies=None\n",
    "            collect_replies=[]\n",
    "            while loop_replies:\n",
    "                data_replies = yt.comments().list(part='snippet', maxResults='100', pageToken=pageToken_replies,parentId=parent, textFormat=\"plainText\").execute()\n",
    "                for i in data_replies[\"items\"]:\n",
    "                    comment = i[\"snippet\"][\"textDisplay\"]\n",
    "                    likes = i[\"snippet\"]['likeCount']\n",
    "                    collect_replies.append((comment,likes))\n",
    "                if data_replies.get('nextPageToken'):\n",
    "                    pageToken_replies=data_replies[\"nextPageToken\"]\n",
    "                    print(pageToken_replies)\n",
    "                else:\n",
    "                    loop_replies=False\n",
    "                \n",
    "        if collect_replies:\n",
    "            collect_comments[(comment,likes)]=collect_replies\n",
    "        else:\n",
    "            collect_comments[(comment,likes)]=[('','')]\n",
    "    if data_comment.get('nextPageToken'):\n",
    "        pageToken_comment=data_comment[\"nextPageToken\"]\n",
    "        print(pageToken_comment)\n",
    "    else:\n",
    "        loop_comment=False"
   ]
  },
  {
   "cell_type": "code",
   "execution_count": 95,
   "metadata": {},
   "outputs": [],
   "source": [
    "pd.set_option('display.max_rows', None)\n",
    "pd.set_option('display.max_columns', None)\n",
    "pd.set_option('display.width', None)"
   ]
  },
  {
   "cell_type": "code",
   "execution_count": 96,
   "metadata": {},
   "outputs": [],
   "source": [
    "df_collect=[]\n",
    "for k,v in collect_comments.items():\n",
    "    for val in v:\n",
    "        df_collect.append((k[0],k[1],val[0],val[1]))"
   ]
  },
  {
   "cell_type": "code",
   "execution_count": 103,
   "metadata": {},
   "outputs": [],
   "source": [
    "df=pd.DataFrame(df_collect,columns=['USER_COMMENT','COMMENT_LIKE','REPLY','REPLY_LIKE'])\n",
    "df.to_html('sample.html',index=False,encoding='utf-16',justify='right',)"
   ]
  },
  {
   "cell_type": "code",
   "execution_count": null,
   "metadata": {},
   "outputs": [],
   "source": []
  }
 ],
 "metadata": {
  "kernelspec": {
   "display_name": "Python 3",
   "language": "python",
   "name": "python3"
  },
  "language_info": {
   "codemirror_mode": {
    "name": "ipython",
    "version": 3
   },
   "file_extension": ".py",
   "mimetype": "text/x-python",
   "name": "python",
   "nbconvert_exporter": "python",
   "pygments_lexer": "ipython3",
   "version": "3.8.5"
  }
 },
 "nbformat": 4,
 "nbformat_minor": 4
}
